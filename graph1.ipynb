{
 "cells": [
  {
   "cell_type": "code",
   "execution_count": 1,
   "id": "f3fa0158",
   "metadata": {},
   "outputs": [],
   "source": [
    "edges=[(0,1),(0,4),(1,4),(2,3),(1,3),(1,4),(3,4)] "
   ]
  },
  {
   "cell_type": "code",
   "execution_count": 4,
   "id": "08881397",
   "metadata": {},
   "outputs": [],
   "source": [
    "n=5\n",
    "table=[[0 for _ in range (n)] for _ in range (n)]"
   ]
  },
  {
   "cell_type": "code",
   "execution_count": 5,
   "id": "060ae857",
   "metadata": {},
   "outputs": [],
   "source": [
    "for u, v in edges:\n",
    "    table[u][v]=1"
   ]
  },
  {
   "cell_type": "code",
   "execution_count": 6,
   "id": "9249f7f8",
   "metadata": {},
   "outputs": [
    {
     "data": {
      "text/plain": [
       "[[0, 1, 0, 0, 1],\n",
       " [0, 0, 0, 1, 1],\n",
       " [0, 0, 0, 1, 0],\n",
       " [0, 0, 0, 0, 1],\n",
       " [0, 0, 0, 0, 0]]"
      ]
     },
     "execution_count": 6,
     "metadata": {},
     "output_type": "execute_result"
    }
   ],
   "source": [
    "table "
   ]
  },
  {
   "cell_type": "code",
   "execution_count": null,
   "id": "23e75132",
   "metadata": {},
   "outputs": [],
   "source": []
  },
  {
   "cell_type": "code",
   "execution_count": 9,
   "id": "c0e7d01c",
   "metadata": {},
   "outputs": [],
   "source": [
    "class Graph:\n",
    "    def __init__(self, num_nodes, edges):\n",
    "        self.num_nodes=num_nodes\n",
    "        self.data=[[] for _ in range(num_nodes)]\n",
    "        for i,j in edges:\n",
    "            self.data[i].append(j)\n",
    "            self.data[j].append(i)"
   ]
  },
  {
   "cell_type": "code",
   "execution_count": 16,
   "id": "4f370d66",
   "metadata": {},
   "outputs": [],
   "source": [
    "graph=Graph(5,edges)"
   ]
  },
  {
   "cell_type": "code",
   "execution_count": 17,
   "id": "8f49f47b",
   "metadata": {},
   "outputs": [
    {
     "data": {
      "text/plain": [
       "[[1, 4], [0, 4, 3, 4], [3], [2, 1, 4], [0, 1, 1, 3]]"
      ]
     },
     "execution_count": 17,
     "metadata": {},
     "output_type": "execute_result"
    }
   ],
   "source": [
    "graph.data"
   ]
  },
  {
   "cell_type": "code",
   "execution_count": 18,
   "id": "4a179621",
   "metadata": {},
   "outputs": [
    {
     "data": {
      "text/plain": [
       "5"
      ]
     },
     "execution_count": 18,
     "metadata": {},
     "output_type": "execute_result"
    }
   ],
   "source": [
    "len(graph.data)"
   ]
  },
  {
   "cell_type": "code",
   "execution_count": 20,
   "id": "943972e4",
   "metadata": {},
   "outputs": [],
   "source": [
    "discovered=[False]*len(graph.data)"
   ]
  },
  {
   "cell_type": "raw",
   "id": "1315a8ca",
   "metadata": {},
   "source": []
  },
  {
   "cell_type": "code",
   "execution_count": 21,
   "id": "a7b0b597",
   "metadata": {},
   "outputs": [
    {
     "data": {
      "text/plain": [
       "[False, False, False, False, False]"
      ]
     },
     "execution_count": 21,
     "metadata": {},
     "output_type": "execute_result"
    }
   ],
   "source": [
    "discovered"
   ]
  },
  {
   "cell_type": "code",
   "execution_count": null,
   "id": "d31f9dc3",
   "metadata": {},
   "outputs": [],
   "source": []
  }
 ],
 "metadata": {
  "kernelspec": {
   "display_name": "Python 3 (ipykernel)",
   "language": "python",
   "name": "python3"
  },
  "language_info": {
   "codemirror_mode": {
    "name": "ipython",
    "version": 3
   },
   "file_extension": ".py",
   "mimetype": "text/x-python",
   "name": "python",
   "nbconvert_exporter": "python",
   "pygments_lexer": "ipython3",
   "version": "3.9.7"
  }
 },
 "nbformat": 4,
 "nbformat_minor": 5
}
